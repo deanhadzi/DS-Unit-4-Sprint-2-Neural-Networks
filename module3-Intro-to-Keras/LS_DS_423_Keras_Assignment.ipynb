{
 "cells": [
  {
   "cell_type": "markdown",
   "metadata": {
    "colab_type": "text",
    "id": "pBQsZEJmubLs"
   },
   "source": [
    "<img align=\"left\" src=\"https://lever-client-logos.s3.amazonaws.com/864372b1-534c-480e-acd5-9711f850815c-1524247202159.png\" width=200>\n",
    "<br></br>\n",
    "\n",
    "# Neural Network Framework (Keras)\n",
    "\n",
    "## *Data Science Unit 4 Sprint 2 Assignment 3*\n",
    "\n",
    "## Use the Keras Library to build a Multi-Layer Perceptron Model on the Boston Housing dataset\n",
    "\n",
    "- The Boston Housing dataset comes with the Keras library so use Keras to import it into your notebook. \n",
    "- Normalize the data (all features should have roughly the same scale)\n",
    "- Import the type of model and layers that you will need from Keras.\n",
    "- Instantiate a model object and use `model.add()` to add layers to your model\n",
    "- Since this is a regression model you will have a single output node in the final layer.\n",
    "- Use activation functions that are appropriate for this task\n",
    "- Compile your model\n",
    "- Fit your model and report its accuracy in terms of Mean Squared Error\n",
    "- Use the history object that is returned from model.fit to make graphs of the model's loss or train/validation accuracies by epoch. \n",
    "- Run this same data through a linear regression model. Which achieves higher accuracy?\n",
    "- Do a little bit of feature engineering and see how that affects your neural network model. (you will need to change your model to accept more inputs)\n",
    "- After feature engineering, which model sees a greater accuracy boost due to the new features?"
   ]
  },
  {
   "cell_type": "code",
   "execution_count": 1,
   "metadata": {
    "colab": {},
    "colab_type": "code",
    "id": "8NLTAR87uYJ-"
   },
   "outputs": [],
   "source": [
    "# Import the necessary libraries.\n",
    "import matplotlib.pyplot as plt\n",
    "\n",
    "from tensorflow.keras.datasets import boston_housing\n",
    "from tensorflow.keras.models import Sequential\n",
    "from tensorflow.keras.layers import Dense, Flatten\n",
    "\n",
    "from sklearn.preprocessing import StandardScaler\n",
    "from sklearn.linear_model import LinearRegression\n",
    "from sklearn.metrics import mean_absolute_error"
   ]
  },
  {
   "cell_type": "code",
   "execution_count": 2,
   "metadata": {},
   "outputs": [
    {
     "name": "stdout",
     "output_type": "stream",
     "text": [
      "(404, 13) (404,) (102, 13) (102,)\n"
     ]
    }
   ],
   "source": [
    "# Import the boston housing dataset.\n",
    "(X_train, y_train), (X_test, y_test) = boston_housing.load_data()\n",
    "print(X_train.shape, y_train.shape, X_test.shape, y_test.shape)"
   ]
  },
  {
   "cell_type": "code",
   "execution_count": 3,
   "metadata": {},
   "outputs": [],
   "source": [
    "# Normalize the data (all features should have roughly the same scale)\n",
    "scaler = StandardScaler()\n",
    "scaler.fit(X_train)\n",
    "X_train_scaled = scaler.transform(X_train)\n",
    "X_test_scaled = scaler.transform(X_test)"
   ]
  },
  {
   "cell_type": "code",
   "execution_count": 4,
   "metadata": {},
   "outputs": [
    {
     "name": "stdout",
     "output_type": "stream",
     "text": [
      "Epoch 1/100\n",
      "13/13 [==============================] - 0s 13ms/step - loss: 578.9926 - mae: 22.1627 - val_loss: 602.8475 - val_mae: 22.7456\n",
      "Epoch 2/100\n",
      "13/13 [==============================] - 0s 4ms/step - loss: 565.7316 - mae: 21.8821 - val_loss: 588.9561 - val_mae: 22.4496\n",
      "Epoch 3/100\n",
      "13/13 [==============================] - 0s 4ms/step - loss: 551.5385 - mae: 21.5664 - val_loss: 573.2430 - val_mae: 22.1084\n",
      "Epoch 4/100\n",
      "13/13 [==============================] - 0s 3ms/step - loss: 534.2165 - mae: 21.1821 - val_loss: 554.8188 - val_mae: 21.6975\n",
      "Epoch 5/100\n",
      "13/13 [==============================] - 0s 3ms/step - loss: 514.1033 - mae: 20.7179 - val_loss: 531.9840 - val_mae: 21.1734\n",
      "Epoch 6/100\n",
      "13/13 [==============================] - 0s 3ms/step - loss: 488.0867 - mae: 20.1109 - val_loss: 504.3102 - val_mae: 20.5189\n",
      "Epoch 7/100\n",
      "13/13 [==============================] - 0s 4ms/step - loss: 457.5910 - mae: 19.3680 - val_loss: 469.1779 - val_mae: 19.6678\n",
      "Epoch 8/100\n",
      "13/13 [==============================] - 0s 3ms/step - loss: 421.2249 - mae: 18.4466 - val_loss: 430.1238 - val_mae: 18.6717\n",
      "Epoch 9/100\n",
      "13/13 [==============================] - 0s 3ms/step - loss: 381.4274 - mae: 17.3847 - val_loss: 388.1006 - val_mae: 17.5370\n",
      "Epoch 10/100\n",
      "13/13 [==============================] - 0s 3ms/step - loss: 339.9024 - mae: 16.2038 - val_loss: 344.7787 - val_mae: 16.2948\n",
      "Epoch 11/100\n",
      "13/13 [==============================] - 0s 3ms/step - loss: 298.1132 - mae: 14.9090 - val_loss: 301.2526 - val_mae: 14.9833\n",
      "Epoch 12/100\n",
      "13/13 [==============================] - 0s 3ms/step - loss: 258.0638 - mae: 13.5770 - val_loss: 259.7023 - val_mae: 13.7398\n",
      "Epoch 13/100\n",
      "13/13 [==============================] - 0s 4ms/step - loss: 220.8901 - mae: 12.2641 - val_loss: 221.8881 - val_mae: 12.6324\n",
      "Epoch 14/100\n",
      "13/13 [==============================] - 0s 3ms/step - loss: 188.5943 - mae: 11.0284 - val_loss: 189.2573 - val_mae: 11.5771\n",
      "Epoch 15/100\n",
      "13/13 [==============================] - 0s 3ms/step - loss: 161.9589 - mae: 10.0205 - val_loss: 162.5463 - val_mae: 10.6705\n",
      "Epoch 16/100\n",
      "13/13 [==============================] - 0s 3ms/step - loss: 141.0362 - mae: 9.2364 - val_loss: 140.9917 - val_mae: 9.8483\n",
      "Epoch 17/100\n",
      "13/13 [==============================] - 0s 3ms/step - loss: 124.5117 - mae: 8.5824 - val_loss: 123.9423 - val_mae: 9.1780\n",
      "Epoch 18/100\n",
      "13/13 [==============================] - 0s 3ms/step - loss: 110.9726 - mae: 8.0395 - val_loss: 109.7554 - val_mae: 8.5979\n",
      "Epoch 19/100\n",
      "13/13 [==============================] - 0s 3ms/step - loss: 99.4418 - mae: 7.5769 - val_loss: 98.1720 - val_mae: 8.1117\n",
      "Epoch 20/100\n",
      "13/13 [==============================] - 0s 4ms/step - loss: 89.8020 - mae: 7.1446 - val_loss: 87.2852 - val_mae: 7.6339\n",
      "Epoch 21/100\n",
      "13/13 [==============================] - 0s 3ms/step - loss: 80.4085 - mae: 6.7305 - val_loss: 78.2675 - val_mae: 7.2090\n",
      "Epoch 22/100\n",
      "13/13 [==============================] - 0s 3ms/step - loss: 72.8236 - mae: 6.3501 - val_loss: 69.5425 - val_mae: 6.7898\n",
      "Epoch 23/100\n",
      "13/13 [==============================] - 0s 3ms/step - loss: 64.9683 - mae: 5.9755 - val_loss: 62.8743 - val_mae: 6.4451\n",
      "Epoch 24/100\n",
      "13/13 [==============================] - 0s 3ms/step - loss: 58.4856 - mae: 5.6402 - val_loss: 57.2961 - val_mae: 6.1208\n",
      "Epoch 25/100\n",
      "13/13 [==============================] - 0s 3ms/step - loss: 52.8566 - mae: 5.3152 - val_loss: 51.6848 - val_mae: 5.7808\n",
      "Epoch 26/100\n",
      "13/13 [==============================] - 0s 3ms/step - loss: 47.9349 - mae: 5.0049 - val_loss: 46.9527 - val_mae: 5.4841\n",
      "Epoch 27/100\n",
      "13/13 [==============================] - 0s 3ms/step - loss: 43.7674 - mae: 4.7482 - val_loss: 43.0879 - val_mae: 5.2274\n",
      "Epoch 28/100\n",
      "13/13 [==============================] - 0s 4ms/step - loss: 40.0523 - mae: 4.5143 - val_loss: 40.1902 - val_mae: 5.0332\n",
      "Epoch 29/100\n",
      "13/13 [==============================] - 0s 3ms/step - loss: 37.3337 - mae: 4.3337 - val_loss: 37.7124 - val_mae: 4.8788\n",
      "Epoch 30/100\n",
      "13/13 [==============================] - 0s 3ms/step - loss: 34.7024 - mae: 4.1662 - val_loss: 35.8174 - val_mae: 4.7489\n",
      "Epoch 31/100\n",
      "13/13 [==============================] - 0s 3ms/step - loss: 32.7556 - mae: 4.0400 - val_loss: 34.1353 - val_mae: 4.6299\n",
      "Epoch 32/100\n",
      "13/13 [==============================] - 0s 4ms/step - loss: 31.1942 - mae: 3.9580 - val_loss: 32.9622 - val_mae: 4.5356\n",
      "Epoch 33/100\n",
      "13/13 [==============================] - 0s 4ms/step - loss: 29.7055 - mae: 3.8651 - val_loss: 31.9155 - val_mae: 4.4718\n",
      "Epoch 34/100\n",
      "13/13 [==============================] - 0s 3ms/step - loss: 28.5560 - mae: 3.7907 - val_loss: 31.3569 - val_mae: 4.4156\n",
      "Epoch 35/100\n",
      "13/13 [==============================] - 0s 3ms/step - loss: 27.6384 - mae: 3.7249 - val_loss: 30.9072 - val_mae: 4.3654\n",
      "Epoch 36/100\n",
      "13/13 [==============================] - 0s 4ms/step - loss: 26.9381 - mae: 3.6705 - val_loss: 30.4063 - val_mae: 4.3181\n",
      "Epoch 37/100\n",
      "13/13 [==============================] - 0s 3ms/step - loss: 26.2096 - mae: 3.6176 - val_loss: 30.0508 - val_mae: 4.2772\n",
      "Epoch 38/100\n",
      "13/13 [==============================] - 0s 3ms/step - loss: 25.6447 - mae: 3.5686 - val_loss: 29.9607 - val_mae: 4.2524\n",
      "Epoch 39/100\n",
      "13/13 [==============================] - 0s 4ms/step - loss: 25.1570 - mae: 3.5330 - val_loss: 29.6975 - val_mae: 4.2310\n",
      "Epoch 40/100\n",
      "13/13 [==============================] - 0s 4ms/step - loss: 24.6204 - mae: 3.4935 - val_loss: 29.5088 - val_mae: 4.2049\n",
      "Epoch 41/100\n",
      "13/13 [==============================] - 0s 4ms/step - loss: 24.2111 - mae: 3.4590 - val_loss: 29.4591 - val_mae: 4.1937\n",
      "Epoch 42/100\n",
      "13/13 [==============================] - 0s 4ms/step - loss: 23.7278 - mae: 3.4193 - val_loss: 29.4207 - val_mae: 4.1793\n",
      "Epoch 43/100\n",
      "13/13 [==============================] - 0s 3ms/step - loss: 23.3558 - mae: 3.3881 - val_loss: 29.3498 - val_mae: 4.1716\n",
      "Epoch 44/100\n",
      "13/13 [==============================] - 0s 3ms/step - loss: 22.9861 - mae: 3.3531 - val_loss: 29.0442 - val_mae: 4.1431\n",
      "Epoch 45/100\n",
      "13/13 [==============================] - 0s 3ms/step - loss: 22.7001 - mae: 3.3358 - val_loss: 29.1405 - val_mae: 4.1458\n",
      "Epoch 46/100\n",
      "13/13 [==============================] - 0s 4ms/step - loss: 22.2801 - mae: 3.3087 - val_loss: 28.9842 - val_mae: 4.1259\n",
      "Epoch 47/100\n",
      "13/13 [==============================] - 0s 3ms/step - loss: 21.9741 - mae: 3.2798 - val_loss: 28.8830 - val_mae: 4.1068\n",
      "Epoch 48/100\n",
      "13/13 [==============================] - 0s 3ms/step - loss: 21.6324 - mae: 3.2547 - val_loss: 28.8355 - val_mae: 4.0934\n",
      "Epoch 49/100\n",
      "13/13 [==============================] - 0s 3ms/step - loss: 21.3640 - mae: 3.2400 - val_loss: 28.9107 - val_mae: 4.0869\n",
      "Epoch 50/100\n",
      "13/13 [==============================] - 0s 4ms/step - loss: 21.0189 - mae: 3.2057 - val_loss: 28.5787 - val_mae: 4.0552\n",
      "Epoch 51/100\n",
      "13/13 [==============================] - 0s 4ms/step - loss: 20.7042 - mae: 3.1776 - val_loss: 28.5462 - val_mae: 4.0406\n",
      "Epoch 52/100\n",
      "13/13 [==============================] - 0s 3ms/step - loss: 20.4555 - mae: 3.1610 - val_loss: 28.5179 - val_mae: 4.0253\n",
      "Epoch 53/100\n",
      "13/13 [==============================] - 0s 4ms/step - loss: 20.1557 - mae: 3.1311 - val_loss: 28.1303 - val_mae: 3.9905\n",
      "Epoch 54/100\n",
      "13/13 [==============================] - 0s 9ms/step - loss: 19.9244 - mae: 3.1095 - val_loss: 28.1202 - val_mae: 3.9799\n",
      "Epoch 55/100\n",
      "13/13 [==============================] - 0s 3ms/step - loss: 19.6274 - mae: 3.0840 - val_loss: 27.9212 - val_mae: 3.9564\n",
      "Epoch 56/100\n",
      "13/13 [==============================] - 0s 3ms/step - loss: 19.4029 - mae: 3.0698 - val_loss: 27.8019 - val_mae: 3.9406\n",
      "Epoch 57/100\n",
      "13/13 [==============================] - 0s 3ms/step - loss: 19.1560 - mae: 3.0397 - val_loss: 27.4601 - val_mae: 3.9031\n",
      "Epoch 58/100\n",
      "13/13 [==============================] - 0s 3ms/step - loss: 18.9154 - mae: 3.0190 - val_loss: 27.5258 - val_mae: 3.8981\n",
      "Epoch 59/100\n",
      "13/13 [==============================] - 0s 3ms/step - loss: 18.6661 - mae: 2.9974 - val_loss: 27.3255 - val_mae: 3.8785\n",
      "Epoch 60/100\n",
      "13/13 [==============================] - 0s 3ms/step - loss: 18.4808 - mae: 2.9877 - val_loss: 27.2120 - val_mae: 3.8630\n",
      "Epoch 61/100\n",
      "13/13 [==============================] - 0s 4ms/step - loss: 18.2133 - mae: 2.9691 - val_loss: 27.0093 - val_mae: 3.8383\n",
      "Epoch 62/100\n",
      "13/13 [==============================] - 0s 3ms/step - loss: 17.9965 - mae: 2.9405 - val_loss: 26.8967 - val_mae: 3.8156\n",
      "Epoch 63/100\n",
      "13/13 [==============================] - 0s 3ms/step - loss: 17.7852 - mae: 2.9148 - val_loss: 26.8027 - val_mae: 3.7993\n",
      "Epoch 64/100\n",
      "13/13 [==============================] - 0s 3ms/step - loss: 17.5636 - mae: 2.8958 - val_loss: 26.4686 - val_mae: 3.7698\n",
      "Epoch 65/100\n",
      "13/13 [==============================] - 0s 3ms/step - loss: 17.3598 - mae: 2.8781 - val_loss: 26.4498 - val_mae: 3.7629\n",
      "Epoch 66/100\n",
      "13/13 [==============================] - 0s 3ms/step - loss: 17.1512 - mae: 2.8626 - val_loss: 26.2377 - val_mae: 3.7415\n",
      "Epoch 67/100\n",
      "13/13 [==============================] - 0s 3ms/step - loss: 16.9397 - mae: 2.8435 - val_loss: 25.9183 - val_mae: 3.7152\n",
      "Epoch 68/100\n",
      "13/13 [==============================] - 0s 3ms/step - loss: 16.7380 - mae: 2.8299 - val_loss: 26.0000 - val_mae: 3.7073\n",
      "Epoch 69/100\n",
      "13/13 [==============================] - 0s 3ms/step - loss: 16.5491 - mae: 2.8104 - val_loss: 26.0407 - val_mae: 3.7010\n",
      "Epoch 70/100\n",
      "13/13 [==============================] - 0s 3ms/step - loss: 16.3331 - mae: 2.7872 - val_loss: 25.9014 - val_mae: 3.6812\n",
      "Epoch 71/100\n",
      "13/13 [==============================] - 0s 4ms/step - loss: 16.1389 - mae: 2.7666 - val_loss: 25.3682 - val_mae: 3.6444\n",
      "Epoch 72/100\n",
      "13/13 [==============================] - 0s 3ms/step - loss: 15.9719 - mae: 2.7501 - val_loss: 25.4714 - val_mae: 3.6425\n",
      "Epoch 73/100\n",
      "13/13 [==============================] - 0s 3ms/step - loss: 15.7367 - mae: 2.7274 - val_loss: 25.0757 - val_mae: 3.6126\n",
      "Epoch 74/100\n",
      "13/13 [==============================] - 0s 4ms/step - loss: 15.5742 - mae: 2.7196 - val_loss: 25.0845 - val_mae: 3.6100\n",
      "Epoch 75/100\n",
      "13/13 [==============================] - 0s 3ms/step - loss: 15.3711 - mae: 2.7074 - val_loss: 25.2502 - val_mae: 3.6157\n",
      "Epoch 76/100\n",
      "13/13 [==============================] - 0s 3ms/step - loss: 15.1879 - mae: 2.6888 - val_loss: 25.0428 - val_mae: 3.5951\n",
      "Epoch 77/100\n",
      "13/13 [==============================] - 0s 3ms/step - loss: 15.0340 - mae: 2.6828 - val_loss: 24.8281 - val_mae: 3.5784\n",
      "Epoch 78/100\n",
      "13/13 [==============================] - 0s 3ms/step - loss: 14.8771 - mae: 2.6641 - val_loss: 24.8853 - val_mae: 3.5771\n",
      "Epoch 79/100\n",
      "13/13 [==============================] - 0s 3ms/step - loss: 14.6764 - mae: 2.6367 - val_loss: 24.4088 - val_mae: 3.5349\n",
      "Epoch 80/100\n",
      "13/13 [==============================] - 0s 3ms/step - loss: 14.6192 - mae: 2.6427 - val_loss: 24.8852 - val_mae: 3.5655\n",
      "Epoch 81/100\n",
      "13/13 [==============================] - 0s 3ms/step - loss: 14.3362 - mae: 2.6223 - val_loss: 24.6725 - val_mae: 3.5386\n",
      "Epoch 82/100\n",
      "13/13 [==============================] - 0s 4ms/step - loss: 14.2070 - mae: 2.5893 - val_loss: 24.2153 - val_mae: 3.4950\n",
      "Epoch 83/100\n",
      "13/13 [==============================] - 0s 3ms/step - loss: 13.9877 - mae: 2.5737 - val_loss: 24.4407 - val_mae: 3.5040\n",
      "Epoch 84/100\n",
      "13/13 [==============================] - 0s 3ms/step - loss: 13.9068 - mae: 2.5864 - val_loss: 24.7423 - val_mae: 3.5287\n",
      "Epoch 85/100\n",
      "13/13 [==============================] - 0s 3ms/step - loss: 13.6937 - mae: 2.5687 - val_loss: 24.6310 - val_mae: 3.5088\n",
      "Epoch 86/100\n",
      "13/13 [==============================] - 0s 3ms/step - loss: 13.5733 - mae: 2.5547 - val_loss: 24.6828 - val_mae: 3.5104\n",
      "Epoch 87/100\n",
      "13/13 [==============================] - 0s 3ms/step - loss: 13.3923 - mae: 2.5334 - val_loss: 24.3408 - val_mae: 3.4743\n",
      "Epoch 88/100\n",
      "13/13 [==============================] - 0s 3ms/step - loss: 13.2751 - mae: 2.5224 - val_loss: 24.3808 - val_mae: 3.4779\n",
      "Epoch 89/100\n",
      "13/13 [==============================] - 0s 3ms/step - loss: 13.1285 - mae: 2.5097 - val_loss: 24.2232 - val_mae: 3.4618\n",
      "Epoch 90/100\n",
      "13/13 [==============================] - 0s 3ms/step - loss: 13.0630 - mae: 2.5020 - val_loss: 24.4492 - val_mae: 3.4733\n",
      "Epoch 91/100\n",
      "13/13 [==============================] - 0s 3ms/step - loss: 12.8758 - mae: 2.4797 - val_loss: 23.9654 - val_mae: 3.4353\n",
      "Epoch 92/100\n",
      "13/13 [==============================] - 0s 3ms/step - loss: 12.8053 - mae: 2.4744 - val_loss: 24.1966 - val_mae: 3.4551\n",
      "Epoch 93/100\n",
      "13/13 [==============================] - 0s 3ms/step - loss: 12.6413 - mae: 2.4603 - val_loss: 24.2253 - val_mae: 3.4494\n",
      "Epoch 94/100\n",
      "13/13 [==============================] - 0s 3ms/step - loss: 12.5414 - mae: 2.4512 - val_loss: 24.2325 - val_mae: 3.4449\n",
      "Epoch 95/100\n",
      "13/13 [==============================] - 0s 3ms/step - loss: 12.4355 - mae: 2.4328 - val_loss: 24.0068 - val_mae: 3.4252\n",
      "Epoch 96/100\n",
      "13/13 [==============================] - 0s 3ms/step - loss: 12.3739 - mae: 2.4331 - val_loss: 24.2182 - val_mae: 3.4440\n",
      "Epoch 97/100\n",
      "13/13 [==============================] - 0s 4ms/step - loss: 12.2397 - mae: 2.4249 - val_loss: 24.0138 - val_mae: 3.4232\n",
      "Epoch 98/100\n",
      "13/13 [==============================] - 0s 3ms/step - loss: 12.1477 - mae: 2.4139 - val_loss: 24.0485 - val_mae: 3.4191\n",
      "Epoch 99/100\n",
      "13/13 [==============================] - 0s 3ms/step - loss: 12.0883 - mae: 2.4036 - val_loss: 23.7287 - val_mae: 3.3958\n",
      "Epoch 100/100\n",
      "13/13 [==============================] - 0s 4ms/step - loss: 12.0588 - mae: 2.4060 - val_loss: 24.4872 - val_mae: 3.4529\n"
     ]
    }
   ],
   "source": [
    "# Instantiate a model object and use model.add() to add layers to your model\n",
    "model = Sequential()\n",
    "model.add(Dense(8, input_dim=X_train.shape[1], activation='relu'))\n",
    "model.add(Dense(16, activation='relu'))\n",
    "model.add(Dense(1))\n",
    "model.compile(loss='mse', optimizer='adam', metrics=['mae'])\n",
    "history = model.fit(X_train_scaled, y_train, validation_data=(X_test_scaled, y_test), epochs=100)"
   ]
  },
  {
   "cell_type": "code",
   "execution_count": 5,
   "metadata": {},
   "outputs": [
    {
     "name": "stdout",
     "output_type": "stream",
     "text": [
      "dict_keys(['loss', 'mae', 'val_loss', 'val_mae'])\n"
     ]
    },
    {
     "data": {
      "image/png": "[encoded data removed]",
      "text/plain": [
       "<Figure size 432x288 with 1 Axes>"
      ]
     },
     "metadata": {
      "needs_background": "light"
     },
     "output_type": "display_data"
    }
   ],
   "source": [
    "print(history.history.keys())\n",
    "\n",
    "# summarize history for accuracy\n",
    "plt.plot(history.history['mae'])\n",
    "plt.plot(history.history['val_mae'])\n",
    "plt.title('model accuracy')\n",
    "plt.ylabel('mae')\n",
    "plt.xlabel('epoch')\n",
    "plt.legend(['train', 'test'], loc='upper right')\n",
    "plt.show()"
   ]
  },
  {
   "cell_type": "code",
   "execution_count": 6,
   "metadata": {},
   "outputs": [
    {
     "data": {
      "image/png": "[encoded data removed]",
      "text/plain": [
       "<Figure size 432x288 with 1 Axes>"
      ]
     },
     "metadata": {
      "needs_background": "light"
     },
     "output_type": "display_data"
    }
   ],
   "source": [
    "# summarize history for loss\n",
    "plt.plot(history.history['loss'])\n",
    "plt.plot(history.history['val_loss'])\n",
    "plt.title('model loss')\n",
    "plt.ylabel('loss')\n",
    "plt.xlabel('epoch')\n",
    "plt.legend(['train', 'test'], loc='upper right')\n",
    "plt.show()"
   ]
  },
  {
   "cell_type": "code",
   "execution_count": 7,
   "metadata": {},
   "outputs": [
    {
     "name": "stdout",
     "output_type": "stream",
     "text": [
      "Mean Absolute Error of the linear regression model is 3.464185812406719\n"
     ]
    }
   ],
   "source": [
    "# Run this same data through a linear regression model. Which achieves higher accuracy?\n",
    "lin_reg = LinearRegression().fit(X_train_scaled, y_train)\n",
    "y_pred = lin_reg.predict(X_test_scaled)\n",
    "result = mean_absolute_error(y_test, y_pred)\n",
    "print(f'Mean Absolute Error of the linear regression model is {result}')"
   ]
  },
  {
   "cell_type": "markdown",
   "metadata": {},
   "source": [
    "Linear Regression achieves lower MAE than our ANN."
   ]
  },
  {
   "cell_type": "markdown",
   "metadata": {
    "colab_type": "text",
    "id": "SfcFnOONyuNm"
   },
   "source": [
    "## Use the Keras Library to build an image recognition network using the Fashion-MNIST dataset (also comes with keras)\n",
    "\n",
    "- Load and preprocess the image data similar to how we preprocessed the MNIST data in class.\n",
    "- Make sure to one-hot encode your category labels\n",
    "- The number of nodes in your output layer should equal the number of classes you want to predict for Fashion-MNIST.\n",
    "- Try different hyperparameters. What is the highest accuracy that you are able to achieve.\n",
    "- Use the history object that is returned from model.fit to make graphs of the model's loss or train/validation accuracies by epoch. \n",
    "- Remember that neural networks fall prey to randomness so you may need to run your model multiple times (or use Cross Validation) in order to tell if a change to a hyperparameter is truly producing better results."
   ]
  },
  {
   "cell_type": "code",
   "execution_count": 8,
   "metadata": {
    "colab": {},
    "colab_type": "code",
    "id": "szi6-IpuzaH1"
   },
   "outputs": [
    {
     "name": "stdout",
     "output_type": "stream",
     "text": [
      "(60000, 28, 28) (10000, 28, 28)\n"
     ]
    }
   ],
   "source": [
    "##### Your Code Here #####\n",
    "from tensorflow.keras.datasets import fashion_mnist\n",
    "\n",
    "# Load the mnist data\n",
    "(X_train, y_train), (X_test, y_test) = fashion_mnist.load_data()\n",
    "print(X_train.shape, X_test.shape)"
   ]
  },
  {
   "cell_type": "code",
   "execution_count": 9,
   "metadata": {},
   "outputs": [],
   "source": [
    "# Normalize inputs to be between 0 and 1\n",
    "# Reason we use 255 is because that value for each pixel can range between 0 to 255.\n",
    "X_train = X_train / 255\n",
    "X_test = X_test / 255"
   ]
  },
  {
   "cell_type": "code",
   "execution_count": 10,
   "metadata": {},
   "outputs": [
    {
     "name": "stdout",
     "output_type": "stream",
     "text": [
      "Model: \"sequential_1\"\n",
      "_________________________________________________________________\n",
      "Layer (type)                 Output Shape              Param #   \n",
      "=================================================================\n",
      "flatten (Flatten)            (None, 784)               0         \n",
      "_________________________________________________________________\n",
      "dense_3 (Dense)              (None, 16)                12560     \n",
      "_________________________________________________________________\n",
      "dense_4 (Dense)              (None, 10)                170       \n",
      "=================================================================\n",
      "Total params: 12,730\n",
      "Trainable params: 12,730\n",
      "Non-trainable params: 0\n",
      "_________________________________________________________________\n"
     ]
    }
   ],
   "source": [
    "# Create the sequential model.\n",
    "model = Sequential()\n",
    "\n",
    "# Reformat the input to be a long array of 784 input values, basically append each 28 pixel row in order from top to bottom of the picture.\n",
    "model.add(Flatten(input_shape=(28, 28)))\n",
    "\n",
    "# Add a hidden layer with 16 nodes and use softmax as the activation function.\n",
    "model.add(Dense(16, activation='relu'))\n",
    "\n",
    "# Softmax is being used since its able to handle multiple classes. It normalizes the output for each class between 0 and 1 and then it divides\n",
    "# by their sum - which provides the probability of the input value being in a specific output class.\n",
    "model.add(Dense(10, activation='softmax'))\n",
    "\n",
    "# Compile the model, use adam as optimizer (another option could be stohastic gradient descent) and define the metric.\n",
    "model.compile(loss='sparse_categorical_crossentropy', \n",
    "              optimizer='adam',\n",
    "              metrics=['accuracy'])\n",
    "\n",
    "# Verbal summary of the ANN's architecture.\n",
    "model.summary()"
   ]
  },
  {
   "cell_type": "code",
   "execution_count": 11,
   "metadata": {},
   "outputs": [
    {
     "name": "stdout",
     "output_type": "stream",
     "text": [
      "Epoch 1/10\n",
      "1875/1875 [==============================] - 3s 2ms/step - loss: 0.6282 - accuracy: 0.7857 - val_loss: 0.4927 - val_accuracy: 0.8277\n",
      "Epoch 2/10\n",
      "1875/1875 [==============================] - 3s 1ms/step - loss: 0.4435 - accuracy: 0.8445 - val_loss: 0.4526 - val_accuracy: 0.8422\n",
      "Epoch 3/10\n",
      "1875/1875 [==============================] - 3s 1ms/step - loss: 0.4097 - accuracy: 0.8575 - val_loss: 0.4310 - val_accuracy: 0.8465\n",
      "Epoch 4/10\n",
      "1875/1875 [==============================] - 3s 2ms/step - loss: 0.3885 - accuracy: 0.8635 - val_loss: 0.4220 - val_accuracy: 0.8490\n",
      "Epoch 5/10\n",
      "1875/1875 [==============================] - 3s 1ms/step - loss: 0.3749 - accuracy: 0.8681 - val_loss: 0.4139 - val_accuracy: 0.8553\n",
      "Epoch 6/10\n",
      "1875/1875 [==============================] - 3s 1ms/step - loss: 0.3634 - accuracy: 0.8722 - val_loss: 0.4196 - val_accuracy: 0.8557\n",
      "Epoch 7/10\n",
      "1875/1875 [==============================] - 3s 1ms/step - loss: 0.3566 - accuracy: 0.8733 - val_loss: 0.4051 - val_accuracy: 0.8548\n",
      "Epoch 8/10\n",
      "1875/1875 [==============================] - 3s 2ms/step - loss: 0.3465 - accuracy: 0.8767 - val_loss: 0.3936 - val_accuracy: 0.8585\n",
      "Epoch 9/10\n",
      "1875/1875 [==============================] - 3s 1ms/step - loss: 0.3404 - accuracy: 0.8788 - val_loss: 0.3896 - val_accuracy: 0.8605\n",
      "Epoch 10/10\n",
      "1875/1875 [==============================] - 3s 2ms/step - loss: 0.3356 - accuracy: 0.8800 - val_loss: 0.3877 - val_accuracy: 0.8601\n"
     ]
    }
   ],
   "source": [
    "# Fit the actual model and run for 10 epochs.\n",
    "history = model.fit(X_train, y_train, epochs=10, validation_data=(X_test, y_test))"
   ]
  },
  {
   "cell_type": "code",
   "execution_count": 12,
   "metadata": {},
   "outputs": [
    {
     "data": {
      "image/png": "[encoded data removed]",
      "text/plain": [
       "<Figure size 432x288 with 1 Axes>"
      ]
     },
     "metadata": {
      "needs_background": "light"
     },
     "output_type": "display_data"
    }
   ],
   "source": [
    "# summarize history for accuracy\n",
    "plt.plot(history.history['accuracy'])\n",
    "plt.plot(history.history['val_accuracy'])\n",
    "plt.title('model accuracy')\n",
    "plt.ylabel('mae')\n",
    "plt.xlabel('epoch')\n",
    "plt.legend(['train', 'test'], loc='upper right')\n",
    "plt.show()"
   ]
  },
  {
   "cell_type": "code",
   "execution_count": 13,
   "metadata": {},
   "outputs": [
    {
     "data": {
      "image/png": "[encoded data removed]",
      "text/plain": [
       "<Figure size 432x288 with 1 Axes>"
      ]
     },
     "metadata": {
      "needs_background": "light"
     },
     "output_type": "display_data"
    }
   ],
   "source": [
    "# summarize history for loss\n",
    "plt.plot(history.history['loss'])\n",
    "plt.plot(history.history['val_loss'])\n",
    "plt.title('model loss')\n",
    "plt.ylabel('loss')\n",
    "plt.xlabel('epoch')\n",
    "plt.legend(['train', 'test'], loc='upper right')\n",
    "plt.show()"
   ]
  },
  {
   "cell_type": "markdown",
   "metadata": {
    "colab_type": "text",
    "id": "zv_3xNMjzdLI"
   },
   "source": [
    "## Stretch Goals:\n",
    "\n",
    "- Use Hyperparameter Tuning to make the accuracy of your models as high as possible. (error as low as possible)\n",
    "- Use Cross Validation techniques to get more consistent results with your model.\n",
    "- Use GridSearchCV to try different combinations of hyperparameters. \n",
    "- Start looking into other types of Keras layers for CNNs and RNNs maybe try and build a CNN model for fashion-MNIST to see how the results compare."
   ]
  }
 ],
 "metadata": {
  "colab": {
   "name": "LS_DS_433_Keras_Assignment.ipynb",
   "provenance": [],
   "version": "0.3.2"
  },
  "kernelspec": {
   "display_name": "U4-S2-NNF (Python3)",
   "language": "python",
   "name": "u4-s2-nnf"
  },
  "language_info": {
   "codemirror_mode": {
    "name": "ipython",
    "version": 3
   },
   "file_extension": ".py",
   "mimetype": "text/x-python",
   "name": "python",
   "nbconvert_exporter": "python",
   "pygments_lexer": "ipython3",
   "version": "3.7.0"
  }
 },
 "nbformat": 4,
 "nbformat_minor": 4
}
